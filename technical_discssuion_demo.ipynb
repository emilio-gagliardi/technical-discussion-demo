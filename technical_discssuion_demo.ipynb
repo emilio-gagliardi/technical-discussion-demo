{
  "nbformat": 4,
  "nbformat_minor": 0,
  "metadata": {
    "colab": {
      "provenance": [],
      "authorship_tag": "ABX9TyMBjzt59y6nPEelrVzyOM8M",
      "include_colab_link": true
    },
    "kernelspec": {
      "name": "python3",
      "display_name": "Python 3"
    },
    "language_info": {
      "name": "python"
    }
  },
  "cells": [
    {
      "cell_type": "markdown",
      "metadata": {
        "id": "view-in-github",
        "colab_type": "text"
      },
      "source": [
        "<a href=\"https://colab.research.google.com/github/emilio-gagliardi/technical-discussion-demo/blob/main/technical_discssuion_demo.ipynb\" target=\"_parent\"><img src=\"https://colab.research.google.com/assets/colab-badge.svg\" alt=\"Open In Colab\"/></a>"
      ]
    },
    {
      "cell_type": "markdown",
      "source": [
        "# Introduction and background"
      ],
      "metadata": {
        "id": "TAgQ-Mn_rq40"
      }
    },
    {
      "cell_type": "code",
      "execution_count": 1,
      "metadata": {
        "id": "o9zYf7ChrqOL"
      },
      "outputs": [],
      "source": [
        "# some code"
      ]
    },
    {
      "cell_type": "markdown",
      "source": [
        "## A subsection\n",
        "and some text to discuss"
      ],
      "metadata": {
        "id": "O4xAnEx4r2QZ"
      }
    },
    {
      "cell_type": "code",
      "source": [
        "# a different code snippet"
      ],
      "metadata": {
        "id": "lvTAvq3_sAQ3"
      },
      "execution_count": 2,
      "outputs": []
    },
    {
      "cell_type": "markdown",
      "source": [
        "## A second subsection"
      ],
      "metadata": {
        "id": "UfWNbj32sE1-"
      }
    },
    {
      "cell_type": "code",
      "source": [
        "# the final code snippet"
      ],
      "metadata": {
        "id": "4qkV5KxJsNt9"
      },
      "execution_count": null,
      "outputs": []
    },
    {
      "cell_type": "markdown",
      "source": [
        "# Conclusion\n",
        "A some conclusion text"
      ],
      "metadata": {
        "id": "UDQpc4xhsQRb"
      }
    }
  ]
}